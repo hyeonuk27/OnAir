{
 "cells": [
  {
   "cell_type": "code",
   "execution_count": 17,
   "source": [
    "from selenium import webdriver\r\n"
   ],
   "outputs": [],
   "metadata": {}
  },
  {
   "cell_type": "code",
   "execution_count": 69,
   "source": [
    "driver = webdriver.Chrome('C:/Temp/chromedriver')\r\n",
    "driver.get('https://www.tripadvisor.co.kr/Search?q=아시아나항공') \r\n",
    "driver.implicitly_wait(5)\r\n",
    "\r\n",
    "# 항공사 리뷰 페이지까지 접근\r\n",
    "airline = driver.find_elements_by_class_name('result-title')[0]\r\n",
    "airline.click()\r\n",
    "driver.implicitly_wait(5)\r\n",
    "\r\n",
    "change_tab = driver.window_handles[-1]\r\n",
    "driver.switch_to.window(change_tab)\r\n",
    "driver.implicitly_wait(5)\r\n",
    "\r\n",
    "reviewList = []\r\n",
    "oldPageNum = 0\r\n",
    "\r\n",
    "while True:\r\n",
    "    curPage = driver.find_element_by_css_selector('span.pageNum.current.disabled')\r\n",
    "    curPageNum = int(curPage.text)\r\n",
    "\r\n",
    "    if curPageNum == oldPageNum:\r\n",
    "        break\r\n",
    "    \r\n",
    "    oldPageNum = curPageNum\r\n",
    "    \r\n",
    "    # 더 보기 눌려서 모든 리뷰 볼 수 있게\r\n",
    "    more = driver.find_elements_by_css_selector('div.eIVRK')\r\n",
    "    if more:\r\n",
    "        more[0].click()\r\n",
    "\r\n",
    "    reviews = driver.find_elements_by_css_selector('div.pIRBV._T > q')\r\n",
    "    for review in reviews:\r\n",
    "        reviewList.append(review.text)\r\n",
    "        \r\n",
    "    try: \r\n",
    "        pageLink = driver.find_element_by_css_selector('a.ui_button.nav.next.primary')\r\n",
    "        pageLink.click()\r\n",
    "        driver.implicitly_wait(5)\r\n",
    "    except:\r\n",
    "        pass\r\n",
    "\r\n",
    "driver.quit()"
   ],
   "outputs": [],
   "metadata": {}
  },
  {
   "cell_type": "code",
   "execution_count": 70,
   "source": [
    "print(len(reviewList))"
   ],
   "outputs": [
    {
     "output_type": "stream",
     "name": "stdout",
     "text": [
      "906\n"
     ]
    }
   ],
   "metadata": {}
  },
  {
   "cell_type": "code",
   "execution_count": 71,
   "source": [
    "import pandas as pd\r\n",
    "df = pd.DataFrame(reviewList, columns=['review'])\r\n",
    "df.to_csv('Asiana.csv', index=False)"
   ],
   "outputs": [],
   "metadata": {}
  }
 ],
 "metadata": {
  "kernelspec": {
   "name": "python3",
   "display_name": "Python 3.8.7 64-bit"
  },
  "language_info": {
   "codemirror_mode": {
    "name": "ipython",
    "version": 3
   },
   "file_extension": ".py",
   "mimetype": "text/x-python",
   "name": "python",
   "nbconvert_exporter": "python",
   "pygments_lexer": "ipython3",
   "version": "3.8.7"
  },
  "interpreter": {
   "hash": "90e11e86e351ba302e4f9af4aff64cdc23aca2e03ef0bbb7341d24ac763d76e1"
  }
 },
 "nbformat": 4,
 "nbformat_minor": 5
}