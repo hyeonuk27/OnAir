{
 "cells": [
  {
   "cell_type": "code",
   "execution_count": 17,
   "id": "c253cf6c",
   "metadata": {},
   "outputs": [],
   "source": [
    "from selenium import webdriver\n"
   ]
  },
  {
   "cell_type": "code",
   "execution_count": 69,
   "id": "2f277644",
   "metadata": {},
   "outputs": [],
   "source": [
    "driver = webdriver.Chrome('C:/Temp/chromedriver')\n",
    "driver.get('https://www.tripadvisor.co.kr/Search?q=아시아나항공') \n",
    "driver.implicitly_wait(5)\n",
    "\n",
    "# 항공사 리뷰 페이지까지 접근\n",
    "airline = driver.find_elements_by_class_name('result-title')[0]\n",
    "airline.click()\n",
    "driver.implicitly_wait(5)\n",
    "\n",
    "change_tab = driver.window_handles[-1]\n",
    "driver.switch_to.window(change_tab)\n",
    "driver.implicitly_wait(5)\n",
    "\n",
    "reviewList = []\n",
    "oldPageNum = 0\n",
    "\n",
    "while True:\n",
    "    curPage = driver.find_element_by_css_selector('span.pageNum.current.disabled')\n",
    "    curPageNum = int(curPage.text)\n",
    "\n",
    "    if curPageNum == oldPageNum:\n",
    "        break\n",
    "    \n",
    "    oldPageNum = curPageNum\n",
    "    \n",
    "    # 더 보기 눌려서 모든 리뷰 볼 수 있게\n",
    "    more = driver.find_elements_by_css_selector('div.eIVRK')\n",
    "    if more:\n",
    "        more[0].click()\n",
    "\n",
    "    reviews = driver.find_elements_by_css_selector('div.pIRBV._T > q')\n",
    "    for review in reviews:\n",
    "        reviewList.append(review.text)\n",
    "        \n",
    "    try: \n",
    "        pageLink = driver.find_element_by_css_selector('a.ui_button.nav.next.primary')\n",
    "        pageLink.click()\n",
    "        driver.implicitly_wait(5)\n",
    "    except:\n",
    "        pass\n",
    "\n",
    "driver.quit()"
   ]
  },
  {
   "cell_type": "code",
   "execution_count": 70,
   "id": "fff332bc",
   "metadata": {},
   "outputs": [
    {
     "name": "stdout",
     "output_type": "stream",
     "text": [
      "906\n"
     ]
    }
   ],
   "source": [
    "print(len(reviewList))"
   ]
  },
  {
   "cell_type": "code",
   "execution_count": 71,
   "id": "36b319f9",
   "metadata": {},
   "outputs": [],
   "source": [
    "import pandas as pd\n",
    "df = pd.DataFrame(reviewList, columns=['review'])\n",
    "df.to_csv('Asiana.csv', index=False)"
   ]
  }
 ],
 "metadata": {
  "interpreter": {
   "hash": "90e11e86e351ba302e4f9af4aff64cdc23aca2e03ef0bbb7341d24ac763d76e1"
  },
  "kernelspec": {
   "display_name": "Python 3 (ipykernel)",
   "language": "python",
   "name": "python3"
  },
  "language_info": {
   "codemirror_mode": {
    "name": "ipython",
    "version": 3
   },
   "file_extension": ".py",
   "mimetype": "text/x-python",
   "name": "python",
   "nbconvert_exporter": "python",
   "pygments_lexer": "ipython3",
   "version": "3.8.7"
  },
  "toc": {
   "base_numbering": 1,
   "nav_menu": {},
   "number_sections": true,
   "sideBar": true,
   "skip_h1_title": false,
   "title_cell": "Table of Contents",
   "title_sidebar": "Contents",
   "toc_cell": false,
   "toc_position": {},
   "toc_section_display": true,
   "toc_window_display": false
  }
 },
 "nbformat": 4,
 "nbformat_minor": 5
}
