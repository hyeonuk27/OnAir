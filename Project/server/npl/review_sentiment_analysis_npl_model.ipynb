{
 "cells": [
  {
   "cell_type": "markdown",
   "metadata": {
    "id": "fgES_dqLx_EP"
   },
   "source": [
    "# Sentiment Analysis NPL\n",
    "> 감성 분석 모델 구축"
   ]
  },
  {
   "cell_type": "markdown",
   "metadata": {
    "id": "L7P5VQRH9k_2"
   },
   "source": [
    "## 환경 설정"
   ]
  },
  {
   "cell_type": "markdown",
   "metadata": {
    "id": "Zf5IcYhA9h-N"
   },
   "source": [
    "konlpy 설치"
   ]
  },
  {
   "cell_type": "code",
   "execution_count": null,
   "metadata": {
    "colab": {
     "base_uri": "https://localhost:8080/"
    },
    "id": "f0uNG6SPG-bU",
    "outputId": "2d825626-fe27-48a6-ff3f-3965763b31ba"
   },
   "outputs": [
    {
     "name": "stdout",
     "output_type": "stream",
     "text": [
      "\r",
      "0% [Working]\r",
      "            \r",
      "Get:1 http://security.ubuntu.com/ubuntu bionic-security InRelease [88.7 kB]\n",
      "\r",
      "0% [Connecting to archive.ubuntu.com (91.189.88.142)] [1 InRelease 14.2 kB/88.7\r",
      "                                                                               \r",
      "Get:2 https://cloud.r-project.org/bin/linux/ubuntu bionic-cran40/ InRelease [3,626 B]\n",
      "Ign:3 https://developer.download.nvidia.com/compute/cuda/repos/ubuntu1804/x86_64  InRelease\n",
      "Hit:4 http://archive.ubuntu.com/ubuntu bionic InRelease\n",
      "Ign:5 https://developer.download.nvidia.com/compute/machine-learning/repos/ubuntu1804/x86_64  InRelease\n",
      "Get:6 https://developer.download.nvidia.com/compute/cuda/repos/ubuntu1804/x86_64  Release [696 B]\n",
      "Hit:7 https://developer.download.nvidia.com/compute/machine-learning/repos/ubuntu1804/x86_64  Release\n",
      "Get:8 http://ppa.launchpad.net/c2d4u.team/c2d4u4.0+/ubuntu bionic InRelease [15.9 kB]\n",
      "Get:9 https://developer.download.nvidia.com/compute/cuda/repos/ubuntu1804/x86_64  Release.gpg [836 B]\n",
      "Get:10 http://archive.ubuntu.com/ubuntu bionic-updates InRelease [88.7 kB]\n",
      "Hit:11 http://ppa.launchpad.net/cran/libgit2/ubuntu bionic InRelease\n",
      "Get:12 http://archive.ubuntu.com/ubuntu bionic-backports InRelease [74.6 kB]\n",
      "Get:13 http://security.ubuntu.com/ubuntu bionic-security/universe amd64 Packages [1,428 kB]\n",
      "Get:14 http://ppa.launchpad.net/deadsnakes/ppa/ubuntu bionic InRelease [15.9 kB]\n",
      "Get:15 http://security.ubuntu.com/ubuntu bionic-security/restricted amd64 Packages [567 kB]\n",
      "Get:16 http://security.ubuntu.com/ubuntu bionic-security/main amd64 Packages [2,324 kB]\n",
      "Hit:17 http://ppa.launchpad.net/graphics-drivers/ppa/ubuntu bionic InRelease\n",
      "Get:19 https://developer.download.nvidia.com/compute/cuda/repos/ubuntu1804/x86_64  Packages [718 kB]\n",
      "Get:20 http://ppa.launchpad.net/c2d4u.team/c2d4u4.0+/ubuntu bionic/main Sources [1,799 kB]\n",
      "Get:21 http://archive.ubuntu.com/ubuntu bionic-updates/main amd64 Packages [2,761 kB]\n",
      "Get:22 http://archive.ubuntu.com/ubuntu bionic-updates/restricted amd64 Packages [600 kB]\n",
      "Get:23 http://archive.ubuntu.com/ubuntu bionic-updates/universe amd64 Packages [2,202 kB]\n",
      "Get:24 http://ppa.launchpad.net/c2d4u.team/c2d4u4.0+/ubuntu bionic/main amd64 Packages [921 kB]\n",
      "Get:25 http://ppa.launchpad.net/deadsnakes/ppa/ubuntu bionic/main amd64 Packages [40.8 kB]\n",
      "Fetched 13.6 MB in 3s (4,266 kB/s)\n",
      "Reading package lists... Done\n",
      "Reading package lists... Done\n",
      "Building dependency tree       \n",
      "Reading state information... Done\n",
      "g++ is already the newest version (4:7.4.0-1ubuntu2.3).\n",
      "g++ set to manually installed.\n",
      "The following additional packages will be installed:\n",
      "  fonts-dejavu-core fonts-dejavu-extra libatk-wrapper-java\n",
      "  libatk-wrapper-java-jni libgail-common libgail18 libgtk2.0-0 libgtk2.0-bin\n",
      "  libgtk2.0-common libxxf86dga1 openjdk-8-jdk-headless openjdk-8-jre\n",
      "  openjdk-8-jre-headless x11-utils\n",
      "Suggested packages:\n",
      "  gvfs openjdk-8-demo openjdk-8-source visualvm icedtea-8-plugin libnss-mdns\n",
      "  fonts-ipafont-gothic fonts-ipafont-mincho fonts-wqy-microhei\n",
      "  fonts-wqy-zenhei fonts-indic mesa-utils\n",
      "The following NEW packages will be installed:\n",
      "  fonts-dejavu-core fonts-dejavu-extra libatk-wrapper-java\n",
      "  libatk-wrapper-java-jni libgail-common libgail18 libgtk2.0-0 libgtk2.0-bin\n",
      "  libgtk2.0-common libxxf86dga1 openjdk-8-jdk openjdk-8-jdk-headless\n",
      "  openjdk-8-jre openjdk-8-jre-headless x11-utils\n",
      "0 upgraded, 15 newly installed, 0 to remove and 107 not upgraded.\n",
      "Need to get 43.5 MB of archives.\n",
      "After this operation, 163 MB of additional disk space will be used.\n",
      "Get:1 http://archive.ubuntu.com/ubuntu bionic/main amd64 libxxf86dga1 amd64 2:1.1.4-1 [13.7 kB]\n",
      "Get:2 http://archive.ubuntu.com/ubuntu bionic/main amd64 fonts-dejavu-core all 2.37-1 [1,041 kB]\n",
      "Get:3 http://archive.ubuntu.com/ubuntu bionic/main amd64 fonts-dejavu-extra all 2.37-1 [1,953 kB]\n",
      "Get:4 http://archive.ubuntu.com/ubuntu bionic/main amd64 x11-utils amd64 7.7+3build1 [196 kB]\n",
      "Get:5 http://archive.ubuntu.com/ubuntu bionic/main amd64 libatk-wrapper-java all 0.33.3-20ubuntu0.1 [34.7 kB]\n",
      "Get:6 http://archive.ubuntu.com/ubuntu bionic/main amd64 libatk-wrapper-java-jni amd64 0.33.3-20ubuntu0.1 [28.3 kB]\n",
      "Get:7 http://archive.ubuntu.com/ubuntu bionic/main amd64 libgtk2.0-common all 2.24.32-1ubuntu1 [125 kB]\n",
      "Get:8 http://archive.ubuntu.com/ubuntu bionic/main amd64 libgtk2.0-0 amd64 2.24.32-1ubuntu1 [1,769 kB]\n",
      "Get:9 http://archive.ubuntu.com/ubuntu bionic/main amd64 libgail18 amd64 2.24.32-1ubuntu1 [14.2 kB]\n",
      "Get:10 http://archive.ubuntu.com/ubuntu bionic/main amd64 libgail-common amd64 2.24.32-1ubuntu1 [112 kB]\n",
      "Get:11 http://archive.ubuntu.com/ubuntu bionic/main amd64 libgtk2.0-bin amd64 2.24.32-1ubuntu1 [7,536 B]\n",
      "Get:12 http://archive.ubuntu.com/ubuntu bionic-updates/universe amd64 openjdk-8-jre-headless amd64 8u292-b10-0ubuntu1~18.04 [28.2 MB]\n",
      "Get:13 http://archive.ubuntu.com/ubuntu bionic-updates/universe amd64 openjdk-8-jre amd64 8u292-b10-0ubuntu1~18.04 [69.6 kB]\n",
      "Get:14 http://archive.ubuntu.com/ubuntu bionic-updates/universe amd64 openjdk-8-jdk-headless amd64 8u292-b10-0ubuntu1~18.04 [8,284 kB]\n",
      "Get:15 http://archive.ubuntu.com/ubuntu bionic-updates/universe amd64 openjdk-8-jdk amd64 8u292-b10-0ubuntu1~18.04 [1,644 kB]\n",
      "Fetched 43.5 MB in 2s (23.9 MB/s)\n",
      "Selecting previously unselected package libxxf86dga1:amd64.\n",
      "(Reading database ... 148492 files and directories currently installed.)\n",
      "Preparing to unpack .../00-libxxf86dga1_2%3a1.1.4-1_amd64.deb ...\n",
      "Unpacking libxxf86dga1:amd64 (2:1.1.4-1) ...\n",
      "Selecting previously unselected package fonts-dejavu-core.\n",
      "Preparing to unpack .../01-fonts-dejavu-core_2.37-1_all.deb ...\n",
      "Unpacking fonts-dejavu-core (2.37-1) ...\n",
      "Selecting previously unselected package fonts-dejavu-extra.\n",
      "Preparing to unpack .../02-fonts-dejavu-extra_2.37-1_all.deb ...\n",
      "Unpacking fonts-dejavu-extra (2.37-1) ...\n",
      "Selecting previously unselected package x11-utils.\n",
      "Preparing to unpack .../03-x11-utils_7.7+3build1_amd64.deb ...\n",
      "Unpacking x11-utils (7.7+3build1) ...\n",
      "Selecting previously unselected package libatk-wrapper-java.\n",
      "Preparing to unpack .../04-libatk-wrapper-java_0.33.3-20ubuntu0.1_all.deb ...\n",
      "Unpacking libatk-wrapper-java (0.33.3-20ubuntu0.1) ...\n",
      "Selecting previously unselected package libatk-wrapper-java-jni:amd64.\n",
      "Preparing to unpack .../05-libatk-wrapper-java-jni_0.33.3-20ubuntu0.1_amd64.deb ...\n",
      "Unpacking libatk-wrapper-java-jni:amd64 (0.33.3-20ubuntu0.1) ...\n",
      "Selecting previously unselected package libgtk2.0-common.\n",
      "Preparing to unpack .../06-libgtk2.0-common_2.24.32-1ubuntu1_all.deb ...\n",
      "Unpacking libgtk2.0-common (2.24.32-1ubuntu1) ...\n",
      "Selecting previously unselected package libgtk2.0-0:amd64.\n",
      "Preparing to unpack .../07-libgtk2.0-0_2.24.32-1ubuntu1_amd64.deb ...\n",
      "Unpacking libgtk2.0-0:amd64 (2.24.32-1ubuntu1) ...\n",
      "Selecting previously unselected package libgail18:amd64.\n",
      "Preparing to unpack .../08-libgail18_2.24.32-1ubuntu1_amd64.deb ...\n",
      "Unpacking libgail18:amd64 (2.24.32-1ubuntu1) ...\n",
      "Selecting previously unselected package libgail-common:amd64.\n",
      "Preparing to unpack .../09-libgail-common_2.24.32-1ubuntu1_amd64.deb ...\n",
      "Unpacking libgail-common:amd64 (2.24.32-1ubuntu1) ...\n",
      "Selecting previously unselected package libgtk2.0-bin.\n",
      "Preparing to unpack .../10-libgtk2.0-bin_2.24.32-1ubuntu1_amd64.deb ...\n",
      "Unpacking libgtk2.0-bin (2.24.32-1ubuntu1) ...\n",
      "Selecting previously unselected package openjdk-8-jre-headless:amd64.\n",
      "Preparing to unpack .../11-openjdk-8-jre-headless_8u292-b10-0ubuntu1~18.04_amd64.deb ...\n",
      "Unpacking openjdk-8-jre-headless:amd64 (8u292-b10-0ubuntu1~18.04) ...\n",
      "Selecting previously unselected package openjdk-8-jre:amd64.\n",
      "Preparing to unpack .../12-openjdk-8-jre_8u292-b10-0ubuntu1~18.04_amd64.deb ...\n",
      "Unpacking openjdk-8-jre:amd64 (8u292-b10-0ubuntu1~18.04) ...\n",
      "Selecting previously unselected package openjdk-8-jdk-headless:amd64.\n",
      "Preparing to unpack .../13-openjdk-8-jdk-headless_8u292-b10-0ubuntu1~18.04_amd64.deb ...\n",
      "Unpacking openjdk-8-jdk-headless:amd64 (8u292-b10-0ubuntu1~18.04) ...\n",
      "Selecting previously unselected package openjdk-8-jdk:amd64.\n",
      "Preparing to unpack .../14-openjdk-8-jdk_8u292-b10-0ubuntu1~18.04_amd64.deb ...\n",
      "Unpacking openjdk-8-jdk:amd64 (8u292-b10-0ubuntu1~18.04) ...\n",
      "Setting up libgtk2.0-common (2.24.32-1ubuntu1) ...\n",
      "Setting up fonts-dejavu-core (2.37-1) ...\n",
      "Setting up libxxf86dga1:amd64 (2:1.1.4-1) ...\n",
      "Setting up fonts-dejavu-extra (2.37-1) ...\n",
      "Setting up openjdk-8-jre-headless:amd64 (8u292-b10-0ubuntu1~18.04) ...\n",
      "update-alternatives: using /usr/lib/jvm/java-8-openjdk-amd64/jre/bin/orbd to provide /usr/bin/orbd (orbd) in auto mode\n",
      "update-alternatives: using /usr/lib/jvm/java-8-openjdk-amd64/jre/bin/servertool to provide /usr/bin/servertool (servertool) in auto mode\n",
      "update-alternatives: using /usr/lib/jvm/java-8-openjdk-amd64/jre/bin/tnameserv to provide /usr/bin/tnameserv (tnameserv) in auto mode\n",
      "Setting up libgtk2.0-0:amd64 (2.24.32-1ubuntu1) ...\n",
      "Setting up libgail18:amd64 (2.24.32-1ubuntu1) ...\n",
      "Setting up openjdk-8-jdk-headless:amd64 (8u292-b10-0ubuntu1~18.04) ...\n",
      "update-alternatives: using /usr/lib/jvm/java-8-openjdk-amd64/bin/idlj to provide /usr/bin/idlj (idlj) in auto mode\n",
      "update-alternatives: using /usr/lib/jvm/java-8-openjdk-amd64/bin/wsimport to provide /usr/bin/wsimport (wsimport) in auto mode\n",
      "update-alternatives: using /usr/lib/jvm/java-8-openjdk-amd64/bin/jsadebugd to provide /usr/bin/jsadebugd (jsadebugd) in auto mode\n",
      "update-alternatives: using /usr/lib/jvm/java-8-openjdk-amd64/bin/native2ascii to provide /usr/bin/native2ascii (native2ascii) in auto mode\n",
      "update-alternatives: using /usr/lib/jvm/java-8-openjdk-amd64/bin/javah to provide /usr/bin/javah (javah) in auto mode\n",
      "update-alternatives: using /usr/lib/jvm/java-8-openjdk-amd64/bin/hsdb to provide /usr/bin/hsdb (hsdb) in auto mode\n",
      "update-alternatives: using /usr/lib/jvm/java-8-openjdk-amd64/bin/clhsdb to provide /usr/bin/clhsdb (clhsdb) in auto mode\n",
      "update-alternatives: using /usr/lib/jvm/java-8-openjdk-amd64/bin/extcheck to provide /usr/bin/extcheck (extcheck) in auto mode\n",
      "update-alternatives: using /usr/lib/jvm/java-8-openjdk-amd64/bin/schemagen to provide /usr/bin/schemagen (schemagen) in auto mode\n",
      "update-alternatives: using /usr/lib/jvm/java-8-openjdk-amd64/bin/xjc to provide /usr/bin/xjc (xjc) in auto mode\n",
      "update-alternatives: using /usr/lib/jvm/java-8-openjdk-amd64/bin/jhat to provide /usr/bin/jhat (jhat) in auto mode\n",
      "update-alternatives: using /usr/lib/jvm/java-8-openjdk-amd64/bin/wsgen to provide /usr/bin/wsgen (wsgen) in auto mode\n",
      "Setting up x11-utils (7.7+3build1) ...\n",
      "Setting up libgail-common:amd64 (2.24.32-1ubuntu1) ...\n",
      "Setting up libatk-wrapper-java (0.33.3-20ubuntu0.1) ...\n",
      "Setting up libgtk2.0-bin (2.24.32-1ubuntu1) ...\n",
      "Setting up libatk-wrapper-java-jni:amd64 (0.33.3-20ubuntu0.1) ...\n",
      "Setting up openjdk-8-jre:amd64 (8u292-b10-0ubuntu1~18.04) ...\n",
      "update-alternatives: using /usr/lib/jvm/java-8-openjdk-amd64/jre/bin/policytool to provide /usr/bin/policytool (policytool) in auto mode\n",
      "Setting up openjdk-8-jdk:amd64 (8u292-b10-0ubuntu1~18.04) ...\n",
      "update-alternatives: using /usr/lib/jvm/java-8-openjdk-amd64/bin/appletviewer to provide /usr/bin/appletviewer (appletviewer) in auto mode\n",
      "update-alternatives: using /usr/lib/jvm/java-8-openjdk-amd64/bin/jconsole to provide /usr/bin/jconsole (jconsole) in auto mode\n",
      "Processing triggers for man-db (2.8.3-2ubuntu0.1) ...\n",
      "Processing triggers for hicolor-icon-theme (0.17-2) ...\n",
      "Processing triggers for fontconfig (2.12.6-0ubuntu2) ...\n",
      "Processing triggers for mime-support (3.60ubuntu1) ...\n",
      "Processing triggers for libc-bin (2.27-3ubuntu1.2) ...\n",
      "/sbin/ldconfig.real: /usr/local/lib/python3.7/dist-packages/ideep4py/lib/libmkldnn.so.0 is not a symbolic link\n",
      "\n",
      "Collecting konlpy\n",
      "  Downloading konlpy-0.5.2-py2.py3-none-any.whl (19.4 MB)\n",
      "\u001b[K     |████████████████████████████████| 19.4 MB 1.2 MB/s \n",
      "\u001b[?25hRequirement already satisfied: lxml>=4.1.0 in /usr/local/lib/python3.7/dist-packages (from konlpy) (4.2.6)\n",
      "Collecting beautifulsoup4==4.6.0\n",
      "  Downloading beautifulsoup4-4.6.0-py3-none-any.whl (86 kB)\n",
      "\u001b[K     |████████████████████████████████| 86 kB 5.6 MB/s \n",
      "\u001b[?25hCollecting colorama\n",
      "  Downloading colorama-0.4.4-py2.py3-none-any.whl (16 kB)\n",
      "Requirement already satisfied: tweepy>=3.7.0 in /usr/local/lib/python3.7/dist-packages (from konlpy) (3.10.0)\n",
      "Collecting JPype1>=0.7.0\n",
      "  Downloading JPype1-1.3.0-cp37-cp37m-manylinux_2_5_x86_64.manylinux1_x86_64.whl (448 kB)\n",
      "\u001b[K     |████████████████████████████████| 448 kB 48.6 MB/s \n",
      "\u001b[?25hRequirement already satisfied: numpy>=1.6 in /usr/local/lib/python3.7/dist-packages (from konlpy) (1.19.5)\n",
      "Requirement already satisfied: typing-extensions in /usr/local/lib/python3.7/dist-packages (from JPype1>=0.7.0->konlpy) (3.7.4.3)\n",
      "Requirement already satisfied: requests[socks]>=2.11.1 in /usr/local/lib/python3.7/dist-packages (from tweepy>=3.7.0->konlpy) (2.23.0)\n",
      "Requirement already satisfied: requests-oauthlib>=0.7.0 in /usr/local/lib/python3.7/dist-packages (from tweepy>=3.7.0->konlpy) (1.3.0)\n",
      "Requirement already satisfied: six>=1.10.0 in /usr/local/lib/python3.7/dist-packages (from tweepy>=3.7.0->konlpy) (1.15.0)\n",
      "Requirement already satisfied: oauthlib>=3.0.0 in /usr/local/lib/python3.7/dist-packages (from requests-oauthlib>=0.7.0->tweepy>=3.7.0->konlpy) (3.1.1)\n",
      "Requirement already satisfied: chardet<4,>=3.0.2 in /usr/local/lib/python3.7/dist-packages (from requests[socks]>=2.11.1->tweepy>=3.7.0->konlpy) (3.0.4)\n",
      "Requirement already satisfied: idna<3,>=2.5 in /usr/local/lib/python3.7/dist-packages (from requests[socks]>=2.11.1->tweepy>=3.7.0->konlpy) (2.10)\n",
      "Requirement already satisfied: certifi>=2017.4.17 in /usr/local/lib/python3.7/dist-packages (from requests[socks]>=2.11.1->tweepy>=3.7.0->konlpy) (2021.5.30)\n",
      "Requirement already satisfied: urllib3!=1.25.0,!=1.25.1,<1.26,>=1.21.1 in /usr/local/lib/python3.7/dist-packages (from requests[socks]>=2.11.1->tweepy>=3.7.0->konlpy) (1.24.3)\n",
      "Requirement already satisfied: PySocks!=1.5.7,>=1.5.6 in /usr/local/lib/python3.7/dist-packages (from requests[socks]>=2.11.1->tweepy>=3.7.0->konlpy) (1.7.1)\n",
      "Installing collected packages: JPype1, colorama, beautifulsoup4, konlpy\n",
      "  Attempting uninstall: beautifulsoup4\n",
      "    Found existing installation: beautifulsoup4 4.6.3\n",
      "    Uninstalling beautifulsoup4-4.6.3:\n",
      "      Successfully uninstalled beautifulsoup4-4.6.3\n",
      "Successfully installed JPype1-1.3.0 beautifulsoup4-4.6.0 colorama-0.4.4 konlpy-0.5.2\n"
     ]
    }
   ],
   "source": [
    "!apt-get update\n",
    "!apt-get install g++ openjdk-8-jdk \n",
    "!pip install konlpy"
   ]
  },
  {
   "cell_type": "markdown",
   "metadata": {
    "id": "wWV5GWalW09e"
   },
   "source": [
    "라이브러리"
   ]
  },
  {
   "cell_type": "code",
   "execution_count": null,
   "metadata": {
    "id": "3rr-qWOQizO1"
   },
   "outputs": [],
   "source": [
    "import pandas as pd\n",
    "import numpy as np\n",
    "%matplotlib inline\n",
    "import seaborn as sns\n",
    "import warnings\n",
    "warnings.filterwarnings(\"ignore\")\n",
    "\n",
    "from matplotlib import pyplot as plt\n",
    "plt.rc('font', family='NanumBarunGothic') \n",
    "\n",
    "import re\n",
    "import urllib.request\n",
    "from konlpy.tag import Okt\n",
    "from tensorflow.keras.preprocessing.text import Tokenizer\n",
    "from tensorflow.keras.preprocessing.sequence import pad_sequences"
   ]
  },
  {
   "cell_type": "markdown",
   "metadata": {
    "id": "FFNzQjFE8Tyg"
   },
   "source": [
    "<br>\n",
    "<br>\n",
    "\n",
    "## 훈련 데이터 이해"
   ]
  },
  {
   "cell_type": "code",
   "execution_count": null,
   "metadata": {
    "colab": {
     "base_uri": "https://localhost:8080/"
    },
    "id": "XrQyW3I98SC6",
    "outputId": "c1763b63-2a9e-45fa-9e9c-bef65e61ab86"
   },
   "outputs": [
    {
     "data": {
      "text/plain": [
       "('ratings_test.txt', <http.client.HTTPMessage at 0x7f408b307650>)"
      ]
     },
     "execution_count": 41,
     "metadata": {},
     "output_type": "execute_result"
    }
   ],
   "source": [
    "urllib.request.urlretrieve(\"https://raw.githubusercontent.com/e9t/nsmc/master/ratings_train.txt\", filename=\"ratings_train.txt\")\n",
    "urllib.request.urlretrieve(\"https://raw.githubusercontent.com/e9t/nsmc/master/ratings_test.txt\", filename=\"ratings_test.txt\")"
   ]
  },
  {
   "cell_type": "code",
   "execution_count": null,
   "metadata": {
    "id": "fziGYyxX8YPC"
   },
   "outputs": [],
   "source": [
    "train_data = pd.read_table('ratings_train.txt')\n",
    "test_data = pd.read_table('ratings_test.txt')"
   ]
  },
  {
   "cell_type": "code",
   "execution_count": null,
   "metadata": {
    "colab": {
     "base_uri": "https://localhost:8080/"
    },
    "id": "i3ki-x2pHglP",
    "outputId": "031a2b6e-bc98-4b4e-e1da-0e011b24d4c1"
   },
   "outputs": [
    {
     "data": {
      "text/plain": [
       "(146182, 2)"
      ]
     },
     "execution_count": 43,
     "metadata": {},
     "output_type": "execute_result"
    }
   ],
   "source": [
    "train_data['document'].nunique(), train_data['label'].nunique()"
   ]
  },
  {
   "cell_type": "code",
   "execution_count": null,
   "metadata": {
    "id": "gxMoxwOYHjPb"
   },
   "outputs": [],
   "source": [
    "train_data.drop_duplicates(subset=['document'], inplace=True) "
   ]
  },
  {
   "cell_type": "code",
   "execution_count": null,
   "metadata": {
    "colab": {
     "base_uri": "https://localhost:8080/",
     "height": 80
    },
    "id": "osBiZqXYIKYl",
    "outputId": "7259339f-6d25-48c2-c98f-f3daa47e9a03"
   },
   "outputs": [
    {
     "data": {
      "text/html": [
       "<div>\n",
       "<style scoped>\n",
       "    .dataframe tbody tr th:only-of-type {\n",
       "        vertical-align: middle;\n",
       "    }\n",
       "\n",
       "    .dataframe tbody tr th {\n",
       "        vertical-align: top;\n",
       "    }\n",
       "\n",
       "    .dataframe thead th {\n",
       "        text-align: right;\n",
       "    }\n",
       "</style>\n",
       "<table border=\"1\" class=\"dataframe\">\n",
       "  <thead>\n",
       "    <tr style=\"text-align: right;\">\n",
       "      <th></th>\n",
       "      <th>id</th>\n",
       "      <th>document</th>\n",
       "      <th>label</th>\n",
       "    </tr>\n",
       "  </thead>\n",
       "  <tbody>\n",
       "    <tr>\n",
       "      <th>25857</th>\n",
       "      <td>2172111</td>\n",
       "      <td>NaN</td>\n",
       "      <td>1</td>\n",
       "    </tr>\n",
       "  </tbody>\n",
       "</table>\n",
       "</div>"
      ],
      "text/plain": [
       "            id document  label\n",
       "25857  2172111      NaN      1"
      ]
     },
     "execution_count": 45,
     "metadata": {},
     "output_type": "execute_result"
    }
   ],
   "source": [
    "train_data.loc[train_data.document.isnull()]"
   ]
  },
  {
   "cell_type": "code",
   "execution_count": null,
   "metadata": {
    "id": "vyB5SmFCINaC"
   },
   "outputs": [],
   "source": [
    "train_data = train_data.dropna(how = 'any') "
   ]
  },
  {
   "cell_type": "code",
   "execution_count": null,
   "metadata": {
    "id": "yQxq51g7IZQc"
   },
   "outputs": [],
   "source": [
    "train_data['document'] = train_data['document'].str.replace(\"[^ㄱ-ㅎㅏ-ㅣ가-힣 ]\",\"\")"
   ]
  },
  {
   "cell_type": "code",
   "execution_count": null,
   "metadata": {
    "id": "8Te6JHuZIfh4"
   },
   "outputs": [],
   "source": [
    "train_data['document'] = train_data['document'].str.replace('^ +', \"\")\n",
    "train_data['document'].replace('', np.nan, inplace=True)"
   ]
  },
  {
   "cell_type": "code",
   "execution_count": null,
   "metadata": {
    "id": "aaKjHI7PIlhP"
   },
   "outputs": [],
   "source": [
    "train_data = train_data.dropna(how = 'any')"
   ]
  },
  {
   "cell_type": "code",
   "execution_count": null,
   "metadata": {
    "colab": {
     "base_uri": "https://localhost:8080/"
    },
    "id": "0cH7ocRnIr4Z",
    "outputId": "2a1955fe-4e17-479f-b9bb-3d6d4bf9e30f"
   },
   "outputs": [
    {
     "name": "stdout",
     "output_type": "stream",
     "text": [
      "전처리 후 테스트용 샘플의 개수 : 48852\n"
     ]
    }
   ],
   "source": [
    "test_data.drop_duplicates(subset = ['document'], inplace=True)\n",
    "test_data['document'] = test_data['document'].str.replace(\"[^ㄱ-ㅎㅏ-ㅣ가-힣 ]\",\"\")\n",
    "test_data['document'] = test_data['document'].str.replace('^ +', \"\") \n",
    "test_data['document'].replace('', np.nan, inplace=True) \n",
    "test_data = test_data.dropna(how='any') \n",
    "print('전처리 후 테스트용 샘플의 개수 :',len(test_data))"
   ]
  },
  {
   "cell_type": "code",
   "execution_count": null,
   "metadata": {
    "id": "PFeYFVdyIugO"
   },
   "outputs": [],
   "source": [
    "stopwords = ['의','가','이','은','들','는','좀','잘','걍','과','도','를','으로','자','에','와','한','하다']"
   ]
  },
  {
   "cell_type": "code",
   "execution_count": null,
   "metadata": {
    "id": "9RWzuVevIxJk"
   },
   "outputs": [],
   "source": [
    "okt = Okt()"
   ]
  },
  {
   "cell_type": "code",
   "execution_count": null,
   "metadata": {
    "id": "_LrM1Ua3IyMV"
   },
   "outputs": [],
   "source": [
    "X_train = []\n",
    "for sentence in train_data['document']:\n",
    "    temp_X = okt.morphs(sentence, stem=True)\n",
    "    temp_X = [word for word in temp_X if not word in stopwords] \n",
    "    X_train.append(temp_X)"
   ]
  },
  {
   "cell_type": "code",
   "execution_count": null,
   "metadata": {
    "id": "M4SNr4gISBXR"
   },
   "outputs": [],
   "source": [
    "X_test = []\n",
    "for sentence in test_data['document']:\n",
    "    temp_X = okt.morphs(sentence, stem=True) \n",
    "    temp_X = [word for word in temp_X if not word in stopwords] \n",
    "    X_test.append(temp_X)"
   ]
  },
  {
   "cell_type": "code",
   "execution_count": null,
   "metadata": {
    "id": "YDHGgixhPsV2"
   },
   "outputs": [],
   "source": [
    "tokenizer = Tokenizer()\n",
    "tokenizer.fit_on_texts(X_train)"
   ]
  },
  {
   "cell_type": "code",
   "execution_count": null,
   "metadata": {
    "colab": {
     "base_uri": "https://localhost:8080/"
    },
    "id": "cKCvA2ojPxor",
    "outputId": "5584207e-4d90-49a5-d12d-b191ad9b9326"
   },
   "outputs": [
    {
     "name": "stdout",
     "output_type": "stream",
     "text": [
      "단어 집합(vocabulary)의 크기 : 43752\n",
      "등장 빈도가 2번 이하인 희귀 단어의 수: 24337\n",
      "단어 집합에서 희귀 단어의 비율: 55.62488571950996\n",
      "전체 등장 빈도에서 희귀 단어 등장 빈도 비율: 1.8715872104872904\n"
     ]
    }
   ],
   "source": [
    "threshold = 3\n",
    "total_cnt = len(tokenizer.word_index) \n",
    "rare_cnt = 0 \n",
    "total_freq = 0 \n",
    "rare_freq = 0 \n",
    "\n",
    "for key, value in tokenizer.word_counts.items():\n",
    "    total_freq = total_freq + value\n",
    "\n",
    "    if(value < threshold):\n",
    "        rare_cnt = rare_cnt + 1\n",
    "        rare_freq = rare_freq + value\n",
    "\n",
    "print('단어 집합(vocabulary)의 크기 :',total_cnt)\n",
    "print('등장 빈도가 %s번 이하인 희귀 단어의 수: %s'%(threshold - 1, rare_cnt))\n",
    "print(\"단어 집합에서 희귀 단어의 비율:\", (rare_cnt / total_cnt)*100)\n",
    "print(\"전체 등장 빈도에서 희귀 단어 등장 빈도 비율:\", (rare_freq / total_freq)*100)"
   ]
  },
  {
   "cell_type": "code",
   "execution_count": null,
   "metadata": {
    "id": "-OohHSRMP9zI"
   },
   "outputs": [],
   "source": [
    "tokenizer = Tokenizer(vocab_size) \n",
    "tokenizer.fit_on_texts(X_train)\n",
    "X_train = tokenizer.texts_to_sequences(X_train)\n",
    "X_test = tokenizer.texts_to_sequences(X_test)"
   ]
  },
  {
   "cell_type": "code",
   "execution_count": null,
   "metadata": {
    "id": "d2qGMQvySY5Y"
   },
   "outputs": [],
   "source": [
    "y_train = np.array(train_data['label'])\n",
    "y_test = np.array(test_data['label'])"
   ]
  },
  {
   "cell_type": "code",
   "execution_count": null,
   "metadata": {
    "id": "4KdPJW62SaxQ"
   },
   "outputs": [],
   "source": [
    "drop_train = [index for index, sentence in enumerate(X_train) if len(sentence) < 1]"
   ]
  },
  {
   "cell_type": "code",
   "execution_count": null,
   "metadata": {
    "colab": {
     "base_uri": "https://localhost:8080/"
    },
    "id": "NlLvjWmUSdYU",
    "outputId": "8bc05e1d-507e-4bf1-e99e-3cd9f6446480"
   },
   "outputs": [
    {
     "name": "stdout",
     "output_type": "stream",
     "text": [
      "145162\n",
      "145162\n"
     ]
    }
   ],
   "source": [
    "X_train = np.delete(X_train, drop_train, axis=0)\n",
    "y_train = np.delete(y_train, drop_train, axis=0)"
   ]
  },
  {
   "cell_type": "code",
   "execution_count": null,
   "metadata": {
    "colab": {
     "base_uri": "https://localhost:8080/",
     "height": 330
    },
    "id": "vBdOSwJOYVcI",
    "outputId": "f0580da3-2e2a-472c-df97-1380528cdd7d"
   },
   "outputs": [
    {
     "name": "stdout",
     "output_type": "stream",
     "text": [
      "리뷰의 최대 길이 : 69\n",
      "리뷰의 평균 길이 : 10.812485361182679\n"
     ]
    },
    {
     "name": "stderr",
     "output_type": "stream",
     "text": [
      "findfont: Font family ['NanumBarunGothic'] not found. Falling back to DejaVu Sans.\n"
     ]
    },
    {
     "data": {
      "image/png": "[encoded data removed]",
      "text/plain": [
       "<Figure size 432x288 with 1 Axes>"
      ]
     },
     "metadata": {
      "needs_background": "light"
     },
     "output_type": "display_data"
    }
   ],
   "source": [
    "print('리뷰의 최대 길이 :',max(len(l) for l in X_train))\n",
    "print('리뷰의 평균 길이 :',sum(map(len, X_train))/len(X_train))\n",
    "plt.hist([len(s) for s in X_train], bins=50)\n",
    "plt.xlabel('length of samples')\n",
    "plt.ylabel('number of samples')\n",
    "plt.show()"
   ]
  },
  {
   "cell_type": "code",
   "execution_count": null,
   "metadata": {
    "id": "Q9smPe8_YVn1"
   },
   "outputs": [],
   "source": [
    "def below_threshold_len(max_len, nested_list):\n",
    "  cnt = 0\n",
    "  for s in nested_list:\n",
    "    if(len(s) <= max_len):\n",
    "        cnt = cnt + 1\n",
    "  print('전체 샘플 중 길이가 %s 이하인 샘플의 비율: %s'%(max_len, (cnt / len(nested_list))*100))"
   ]
  },
  {
   "cell_type": "code",
   "execution_count": null,
   "metadata": {
    "colab": {
     "base_uri": "https://localhost:8080/"
    },
    "id": "plNsWrwOYVzh",
    "outputId": "115d916c-88ca-4941-ad37-0bc90372d1ef"
   },
   "outputs": [
    {
     "name": "stdout",
     "output_type": "stream",
     "text": [
      "전체 샘플 중 길이가 30 이하인 샘플의 비율: 94.31944999380003\n"
     ]
    }
   ],
   "source": [
    "max_len = 30\n",
    "below_threshold_len(max_len, X_train)"
   ]
  },
  {
   "cell_type": "code",
   "execution_count": null,
   "metadata": {
    "id": "aV9ASycBYmij"
   },
   "outputs": [],
   "source": [
    "X_train = pad_sequences(X_train, maxlen = max_len)\n",
    "X_test = pad_sequences(X_test, maxlen = max_len)"
   ]
  },
  {
   "cell_type": "markdown",
   "metadata": {
    "id": "OYhSfdcKA9-P"
   },
   "source": [
    "<br>\n",
    "<br>\n",
    "\n",
    "## LSTM으로 감성 분류"
   ]
  },
  {
   "cell_type": "code",
   "execution_count": null,
   "metadata": {
    "id": "Zca2SgrRYoqJ"
   },
   "outputs": [],
   "source": [
    "from tensorflow.keras.layers import Embedding, Dense, LSTM\n",
    "from tensorflow.keras.models import Sequential\n",
    "from tensorflow.keras.models import load_model\n",
    "from tensorflow.keras.callbacks import EarlyStopping, ModelCheckpoint"
   ]
  },
  {
   "cell_type": "code",
   "execution_count": null,
   "metadata": {
    "id": "OmIqJthgYrgV"
   },
   "outputs": [],
   "source": [
    "model = Sequential()\n",
    "model.add(Embedding(vocab_size, 100))\n",
    "model.add(LSTM(128))\n",
    "model.add(Dense(1, activation='sigmoid'))"
   ]
  },
  {
   "cell_type": "code",
   "execution_count": null,
   "metadata": {
    "id": "vMhUELHyYvJi"
   },
   "outputs": [],
   "source": [
    "es = EarlyStopping(monitor='val_loss', mode='min', verbose=1, patience=4)\n",
    "mc = ModelCheckpoint('best_model.h5', monitor='val_acc', mode='max', verbose=1, save_best_only=True)"
   ]
  },
  {
   "cell_type": "code",
   "execution_count": null,
   "metadata": {
    "colab": {
     "base_uri": "https://localhost:8080/"
    },
    "id": "drWbFsoqY1EP",
    "outputId": "bc33f851-b9be-44ec-e599-dfc1159906eb"
   },
   "outputs": [
    {
     "name": "stdout",
     "output_type": "stream",
     "text": [
      "Epoch 1/15\n",
      "1936/1936 [==============================] - 175s 88ms/step - loss: 0.3913 - acc: 0.8233 - val_loss: 0.3590 - val_acc: 0.8426\n",
      "\n",
      "Epoch 00001: val_acc improved from -inf to 0.84263, saving model to best_model.h5\n",
      "Epoch 2/15\n",
      "1936/1936 [==============================] - 169s 87ms/step - loss: 0.3275 - acc: 0.8584 - val_loss: 0.3375 - val_acc: 0.8552\n",
      "\n",
      "Epoch 00002: val_acc improved from 0.84263 to 0.85516, saving model to best_model.h5\n",
      "Epoch 3/15\n",
      "1936/1936 [==============================] - 168s 87ms/step - loss: 0.3013 - acc: 0.8720 - val_loss: 0.3304 - val_acc: 0.8582\n",
      "\n",
      "Epoch 00003: val_acc improved from 0.85516 to 0.85816, saving model to best_model.h5\n",
      "Epoch 4/15\n",
      "1936/1936 [==============================] - 169s 87ms/step - loss: 0.2823 - acc: 0.8830 - val_loss: 0.3271 - val_acc: 0.8590\n",
      "\n",
      "Epoch 00004: val_acc improved from 0.85816 to 0.85895, saving model to best_model.h5\n",
      "Epoch 5/15\n",
      "1936/1936 [==============================] - 169s 87ms/step - loss: 0.2653 - acc: 0.8912 - val_loss: 0.3383 - val_acc: 0.8581\n",
      "\n",
      "Epoch 00005: val_acc did not improve from 0.85895\n",
      "Epoch 6/15\n",
      "1936/1936 [==============================] - 168s 87ms/step - loss: 0.2497 - acc: 0.8994 - val_loss: 0.3334 - val_acc: 0.8591\n",
      "\n",
      "Epoch 00006: val_acc improved from 0.85895 to 0.85913, saving model to best_model.h5\n",
      "Epoch 7/15\n",
      "1936/1936 [==============================] - 168s 87ms/step - loss: 0.2342 - acc: 0.9066 - val_loss: 0.3447 - val_acc: 0.8508\n",
      "\n",
      "Epoch 00007: val_acc did not improve from 0.85913\n",
      "Epoch 8/15\n",
      "1936/1936 [==============================] - 168s 87ms/step - loss: 0.2179 - acc: 0.9142 - val_loss: 0.3535 - val_acc: 0.8530\n",
      "\n",
      "Epoch 00008: val_acc did not improve from 0.85913\n",
      "Epoch 00008: early stopping\n"
     ]
    }
   ],
   "source": [
    "model.compile(optimizer='rmsprop', loss='binary_crossentropy', metrics=['acc'])\n",
    "history = model.fit(X_train, y_train, epochs=15, callbacks=[es, mc], batch_size=60, validation_split=0.2)"
   ]
  },
  {
   "cell_type": "code",
   "execution_count": null,
   "metadata": {
    "colab": {
     "base_uri": "https://localhost:8080/"
    },
    "id": "CW9vhxeWY9C6",
    "outputId": "4f2a3be2-d0af-4c80-cda4-3ffcd97f929c"
   },
   "outputs": [
    {
     "name": "stdout",
     "output_type": "stream",
     "text": [
      "1527/1527 [==============================] - 20s 13ms/step - loss: 0.3391 - acc: 0.8564\n",
      "\n",
      " 테스트 정확도: 0.8564\n"
     ]
    }
   ],
   "source": [
    "loaded_model = load_model('best_model.h5')\n",
    "print(\"\\n 테스트 정확도: %.4f\" % (loaded_model.evaluate(X_test, y_test)[1]))"
   ]
  },
  {
   "cell_type": "markdown",
   "metadata": {
    "id": "K5v6GMbXNEl2"
   },
   "source": [
    "<br>\n",
    "<br>\n",
    "\n",
    "## 여행사 리뷰 감성 분석"
   ]
  },
  {
   "cell_type": "code",
   "execution_count": null,
   "metadata": {
    "colab": {
     "base_uri": "https://localhost:8080/"
    },
    "id": "rDmE1AHtqV9U",
    "outputId": "c11d533f-e869-4936-ddc6-33907c177d59"
   },
   "outputs": [
    {
     "name": "stdout",
     "output_type": "stream",
     "text": [
      "총 64개의 리뷰 중 34개의 긍정 리뷰입니다. 긍정리뷰 비율은 53.0 % 입니다.\n"
     ]
    }
   ],
   "source": [
    "AirCanada = pd.read_csv(\"/content/drive/MyDrive/data/항공사리뷰/AirCanada.csv\")\n",
    "\n",
    "AirCanada['review'] = AirCanada['review'].str.replace(\"[^ㄱ-ㅎㅏ-ㅣ가-힣 ]\",\"\") \n",
    "\n",
    "positive_cnt = 0\n",
    "for review in AirCanada['review']:\n",
    "    new_sentence = okt.morphs(review, stem=True) \n",
    "    new_sentence = [word for word in new_sentence if not word in stopwords]\n",
    "    encoded = tokenizer.texts_to_sequences([new_sentence])\n",
    "    pad_new = pad_sequences(encoded, maxlen = max_len) \n",
    "    score = float(loaded_model.predict(pad_new)) \n",
    "    if(score > 0.5):\n",
    "      positive_cnt  += 1\n",
    "positive_ratio = round(positive_cnt / len(AirCanada), 2) * 100\n",
    "print(f'총 {len(AirCanada)}개의 리뷰 중 {positive_cnt}개의 긍정 리뷰입니다. 긍정리뷰 비율은 {positive_ratio} % 입니다.')"
   ]
  },
  {
   "cell_type": "code",
   "execution_count": null,
   "metadata": {
    "colab": {
     "base_uri": "https://localhost:8080/"
    },
    "id": "hTiHY_EOMMro",
    "outputId": "71509cbe-9762-46c8-d356-86094b36f24f"
   },
   "outputs": [
    {
     "name": "stdout",
     "output_type": "stream",
     "text": [
      "총 53개의 리뷰 중 28개의 긍정 리뷰입니다. 긍정리뷰 비율은 53.0 % 입니다.\n"
     ]
    }
   ],
   "source": [
    "AirFrance = pd.read_csv(\"/content/drive/MyDrive/data/항공사리뷰/AirFrance.csv\")\n",
    "\n",
    "AirFrance['review'] = AirFrance['review'].str.replace(\"[^ㄱ-ㅎㅏ-ㅣ가-힣 ]\",\"\") \n",
    "\n",
    "positive_cnt = 0\n",
    "for review in AirFrance['review']:\n",
    "    new_sentence = okt.morphs(review, stem=True) \n",
    "    new_sentence = [word for word in new_sentence if not word in stopwords] \n",
    "    encoded = tokenizer.texts_to_sequences([new_sentence]) \n",
    "    pad_new = pad_sequences(encoded, maxlen = max_len) \n",
    "    score = float(loaded_model.predict(pad_new)) \n",
    "    if(score > 0.5):\n",
    "      positive_cnt  += 1\n",
    "positive_ratio = round(positive_cnt / len(AirFrance), 2) * 100\n",
    "print(f'총 {len(AirFrance)}개의 리뷰 중 {positive_cnt}개의 긍정 리뷰입니다. 긍정리뷰 비율은 {positive_ratio} % 입니다.')"
   ]
  },
  {
   "cell_type": "code",
   "execution_count": null,
   "metadata": {
    "colab": {
     "base_uri": "https://localhost:8080/"
    },
    "id": "WhCnkRE5NRlU",
    "outputId": "73460654-bed2-40be-fbd3-64d28c43ac82"
   },
   "outputs": [
    {
     "name": "stdout",
     "output_type": "stream",
     "text": [
      "총 69개의 리뷰 중 39개의 긍정 리뷰입니다. 긍정리뷰 비율은 56.99999999999999 % 입니다.\n"
     ]
    }
   ],
   "source": [
    "AirSeoul = pd.read_csv(\"/content/drive/MyDrive/data/항공사리뷰/AirSeoul.csv\")\n",
    "\n",
    "AirSeoul['review'] = AirSeoul['review'].str.replace(\"[^ㄱ-ㅎㅏ-ㅣ가-힣 ]\",\"\") \n",
    "\n",
    "positive_cnt = 0\n",
    "for review in AirSeoul['review']:\n",
    "    new_sentence = okt.morphs(review, stem=True) \n",
    "    new_sentence = [word for word in new_sentence if not word in stopwords] \n",
    "    encoded = tokenizer.texts_to_sequences([new_sentence]) \n",
    "    pad_new = pad_sequences(encoded, maxlen = max_len) \n",
    "    score = float(loaded_model.predict(pad_new)) \n",
    "    if(score > 0.5):\n",
    "      positive_cnt  += 1\n",
    "positive_ratio = round(positive_cnt / len(AirSeoul), 2) * 100\n",
    "print(f'총 {len(AirSeoul)}개의 리뷰 중 {positive_cnt}개의 긍정 리뷰입니다. 긍정리뷰 비율은 {positive_ratio} % 입니다.')"
   ]
  },
  {
   "cell_type": "code",
   "execution_count": null,
   "metadata": {
    "colab": {
     "base_uri": "https://localhost:8080/"
    },
    "id": "9yQ3eBJFNoUm",
    "outputId": "699afd06-45a9-4293-bd5c-f20b6e6a2b0b"
   },
   "outputs": [
    {
     "name": "stdout",
     "output_type": "stream",
     "text": [
      "총 43개의 리뷰 중 23개의 긍정 리뷰입니다. 긍정리뷰 비율은 53.0 % 입니다.\n"
     ]
    }
   ],
   "source": [
    "AmericanAirline = pd.read_csv(\"/content/drive/MyDrive/data/항공사리뷰/AmericanAirline.csv\")\n",
    "\n",
    "AmericanAirline['review'] = AmericanAirline['review'].str.replace(\"[^ㄱ-ㅎㅏ-ㅣ가-힣 ]\",\"\") \n",
    "\n",
    "positive_cnt = 0\n",
    "for review in AmericanAirline['review']:\n",
    "    new_sentence = okt.morphs(review, stem=True) \n",
    "    new_sentence = [word for word in new_sentence if not word in stopwords] \n",
    "    encoded = tokenizer.texts_to_sequences([new_sentence]) \n",
    "    pad_new = pad_sequences(encoded, maxlen = max_len) \n",
    "    score = float(loaded_model.predict(pad_new)) \n",
    "    if(score > 0.5):\n",
    "      positive_cnt  += 1\n",
    "positive_ratio = round(positive_cnt / len(AmericanAirline), 2) * 100\n",
    "print(f'총 {len(AmericanAirline)}개의 리뷰 중 {positive_cnt}개의 긍정 리뷰입니다. 긍정리뷰 비율은 {positive_ratio} % 입니다.')"
   ]
  },
  {
   "cell_type": "code",
   "execution_count": null,
   "metadata": {
    "colab": {
     "base_uri": "https://localhost:8080/"
    },
    "id": "pzJFd_iyNoyJ",
    "outputId": "a616855b-2ca5-44f1-ff92-405ea4ad4e08"
   },
   "outputs": [
    {
     "name": "stdout",
     "output_type": "stream",
     "text": [
      "총 906개의 리뷰 중 587개의 긍정 리뷰입니다. 긍정리뷰 비율은 65.0 % 입니다.\n"
     ]
    }
   ],
   "source": [
    "Asiana = pd.read_csv(\"/content/drive/MyDrive/data/항공사리뷰/Asiana.csv\")\n",
    "\n",
    "Asiana['review'] = Asiana['review'].str.replace(\"[^ㄱ-ㅎㅏ-ㅣ가-힣 ]\",\"\") \n",
    "\n",
    "positive_cnt = 0\n",
    "for review in Asiana['review']:\n",
    "    new_sentence = okt.morphs(review, stem=True) \n",
    "    new_sentence = [word for word in new_sentence if not word in stopwords] \n",
    "    encoded = tokenizer.texts_to_sequences([new_sentence]) \n",
    "    pad_new = pad_sequences(encoded, maxlen = max_len) \n",
    "    score = float(loaded_model.predict(pad_new)) \n",
    "    if(score > 0.5):\n",
    "      positive_cnt  += 1\n",
    "positive_ratio = round(positive_cnt / len(Asiana), 2) * 100\n",
    "print(f'총 {len(Asiana)}개의 리뷰 중 {positive_cnt}개의 긍정 리뷰입니다. 긍정리뷰 비율은 {positive_ratio} % 입니다.')"
   ]
  },
  {
   "cell_type": "code",
   "execution_count": null,
   "metadata": {
    "colab": {
     "base_uri": "https://localhost:8080/"
    },
    "id": "w4N4miepN4qV",
    "outputId": "123861a4-6911-4a44-b569-bf42f654b1f0"
   },
   "outputs": [
    {
     "name": "stdout",
     "output_type": "stream",
     "text": [
      "총 82개의 리뷰 중 30개의 긍정 리뷰입니다. 긍정리뷰 비율은 37.0 % 입니다.\n"
     ]
    }
   ],
   "source": [
    "ChinaEastern = pd.read_csv(\"/content/drive/MyDrive/data/항공사리뷰/ChinaEastern.csv\")\n",
    "\n",
    "ChinaEastern['review'] = ChinaEastern['review'].str.replace(\"[^ㄱ-ㅎㅏ-ㅣ가-힣 ]\",\"\") \n",
    "\n",
    "positive_cnt = 0\n",
    "for review in ChinaEastern['review']:\n",
    "    new_sentence = okt.morphs(review, stem=True) \n",
    "    new_sentence = [word for word in new_sentence if not word in stopwords] \n",
    "    encoded = tokenizer.texts_to_sequences([new_sentence])\n",
    "    pad_new = pad_sequences(encoded, maxlen = max_len) \n",
    "    score = float(loaded_model.predict(pad_new)) \n",
    "    if(score > 0.5):\n",
    "      positive_cnt  += 1\n",
    "positive_ratio = round(positive_cnt / len(ChinaEastern), 2) * 100\n",
    "print(f'총 {len(ChinaEastern)}개의 리뷰 중 {positive_cnt}개의 긍정 리뷰입니다. 긍정리뷰 비율은 {positive_ratio} % 입니다.')"
   ]
  },
  {
   "cell_type": "code",
   "execution_count": null,
   "metadata": {
    "colab": {
     "base_uri": "https://localhost:8080/"
    },
    "id": "AKyaxrevOBKx",
    "outputId": "f8cfae97-e021-492a-c145-4004d4216664"
   },
   "outputs": [
    {
     "name": "stdout",
     "output_type": "stream",
     "text": [
      "총 64개의 리뷰 중 25개의 긍정 리뷰입니다. 긍정리뷰 비율은 39.0 % 입니다.\n"
     ]
    }
   ],
   "source": [
    "ChinaSouthern = pd.read_csv(\"/content/drive/MyDrive/data/항공사리뷰/ChinaSouthern.csv\")\n",
    "\n",
    "ChinaSouthern['review'] = ChinaSouthern['review'].str.replace(\"[^ㄱ-ㅎㅏ-ㅣ가-힣 ]\",\"\") \n",
    "\n",
    "positive_cnt = 0\n",
    "for review in ChinaSouthern['review']:\n",
    "    new_sentence = okt.morphs(review, stem=True) \n",
    "    new_sentence = [word for word in new_sentence if not word in stopwords] \n",
    "    encoded = tokenizer.texts_to_sequences([new_sentence]) \n",
    "    pad_new = pad_sequences(encoded, maxlen = max_len) \n",
    "    score = float(loaded_model.predict(pad_new)) \n",
    "    if(score > 0.5):\n",
    "      positive_cnt  += 1\n",
    "positive_ratio = round(positive_cnt / len(ChinaSouthern), 2) * 100\n",
    "print(f'총 {len(ChinaSouthern)}개의 리뷰 중 {positive_cnt}개의 긍정 리뷰입니다. 긍정리뷰 비율은 {positive_ratio} % 입니다.')"
   ]
  },
  {
   "cell_type": "code",
   "execution_count": null,
   "metadata": {
    "colab": {
     "base_uri": "https://localhost:8080/"
    },
    "id": "dV59wKwzOLpo",
    "outputId": "62a7e72c-7784-47e4-cd05-9f35ffe86b3b"
   },
   "outputs": [
    {
     "name": "stdout",
     "output_type": "stream",
     "text": [
      "총 58개의 리뷰 중 31개의 긍정 리뷰입니다. 긍정리뷰 비율은 53.0 % 입니다.\n"
     ]
    }
   ],
   "source": [
    "Delta = pd.read_csv(\"/content/drive/MyDrive/data/항공사리뷰/Delta.csv\")\n",
    "\n",
    "Delta['review'] = Delta['review'].str.replace(\"[^ㄱ-ㅎㅏ-ㅣ가-힣 ]\",\"\") \n",
    "\n",
    "positive_cnt = 0\n",
    "for review in Delta['review']:\n",
    "    new_sentence = okt.morphs(review, stem=True) \n",
    "    new_sentence = [word for word in new_sentence if not word in stopwords] \n",
    "    encoded = tokenizer.texts_to_sequences([new_sentence]) \n",
    "    pad_new = pad_sequences(encoded, maxlen = max_len) \n",
    "    score = float(loaded_model.predict(pad_new)) \n",
    "    if(score > 0.5):\n",
    "      positive_cnt  += 1\n",
    "positive_ratio = round(positive_cnt / len(Delta), 2) * 100\n",
    "print(f'총 {len(Delta)}개의 리뷰 중 {positive_cnt}개의 긍정 리뷰입니다. 긍정리뷰 비율은 {positive_ratio} % 입니다.')"
   ]
  },
  {
   "cell_type": "code",
   "execution_count": null,
   "metadata": {
    "colab": {
     "base_uri": "https://localhost:8080/"
    },
    "id": "hmzjae5JOMBI",
    "outputId": "4fec99f1-dacc-4125-a929-47e8e6e068dd"
   },
   "outputs": [
    {
     "name": "stdout",
     "output_type": "stream",
     "text": [
      "총 60개의 리뷰 중 35개의 긍정 리뷰입니다. 긍정리뷰 비율은 57.99999999999999 % 입니다.\n"
     ]
    }
   ],
   "source": [
    "Emirates = pd.read_csv(\"/content/drive/MyDrive/data/항공사리뷰/Emirates.csv\")\n",
    "\n",
    "Emirates['review'] = Emirates['review'].str.replace(\"[^ㄱ-ㅎㅏ-ㅣ가-힣 ]\",\"\") \n",
    "\n",
    "positive_cnt = 0\n",
    "for review in Emirates['review']:\n",
    "    new_sentence = okt.morphs(review, stem=True) \n",
    "    new_sentence = [word for word in new_sentence if not word in stopwords] \n",
    "    encoded = tokenizer.texts_to_sequences([new_sentence])\n",
    "    pad_new = pad_sequences(encoded, maxlen = max_len) \n",
    "    score = float(loaded_model.predict(pad_new)) \n",
    "    if(score > 0.5):\n",
    "      positive_cnt  += 1\n",
    "positive_ratio = round(positive_cnt / len(Emirates), 2) * 100\n",
    "print(f'총 {len(Emirates)}개의 리뷰 중 {positive_cnt}개의 긍정 리뷰입니다. 긍정리뷰 비율은 {positive_ratio} % 입니다.')"
   ]
  },
  {
   "cell_type": "code",
   "execution_count": null,
   "metadata": {
    "colab": {
     "base_uri": "https://localhost:8080/"
    },
    "id": "BuZNWJ3cOlPD",
    "outputId": "c9faf0d5-c79a-4f68-a207-fd9a8f827749"
   },
   "outputs": [
    {
     "name": "stdout",
     "output_type": "stream",
     "text": [
      "총 294개의 리뷰 중 141개의 긍정 리뷰입니다. 긍정리뷰 비율은 48.0 % 입니다.\n"
     ]
    }
   ],
   "source": [
    "JejuAir = pd.read_csv(\"/content/drive/MyDrive/data/항공사리뷰/JejuAir.csv\")\n",
    "\n",
    "JejuAir['review'] = JejuAir['review'].str.replace(\"[^ㄱ-ㅎㅏ-ㅣ가-힣 ]\",\"\") \n",
    "\n",
    "positive_cnt = 0\n",
    "for review in JejuAir['review']:\n",
    "    new_sentence = okt.morphs(review, stem=True) \n",
    "    new_sentence = [word for word in new_sentence if not word in stopwords]\n",
    "    encoded = tokenizer.texts_to_sequences([new_sentence]) \n",
    "    pad_new = pad_sequences(encoded, maxlen = max_len) \n",
    "    score = float(loaded_model.predict(pad_new))\n",
    "    if(score > 0.5):\n",
    "      positive_cnt  += 1\n",
    "positive_ratio = round(positive_cnt / len(JejuAir), 2) * 100\n",
    "print(f'총 {len(JejuAir)}개의 리뷰 중 {positive_cnt}개의 긍정 리뷰입니다. 긍정리뷰 비율은 {positive_ratio} % 입니다.')"
   ]
  },
  {
   "cell_type": "code",
   "execution_count": null,
   "metadata": {
    "colab": {
     "base_uri": "https://localhost:8080/"
    },
    "id": "rN7P5hapOljR",
    "outputId": "5676c954-81a9-425d-d3d1-3bb6541e54aa"
   },
   "outputs": [
    {
     "name": "stdout",
     "output_type": "stream",
     "text": [
      "총 83개의 리뷰 중 47개의 긍정 리뷰입니다. 긍정리뷰 비율은 56.99999999999999 % 입니다.\n"
     ]
    }
   ],
   "source": [
    "JinAir = pd.read_csv(\"/content/drive/MyDrive/data/항공사리뷰/JinAir.csv\")\n",
    "\n",
    "JinAir['review'] = JinAir['review'].str.replace(\"[^ㄱ-ㅎㅏ-ㅣ가-힣 ]\",\"\") \n",
    "\n",
    "positive_cnt = 0\n",
    "for review in JinAir['review']:\n",
    "    new_sentence = okt.morphs(review, stem=True) \n",
    "    new_sentence = [word for word in new_sentence if not word in stopwords]\n",
    "    encoded = tokenizer.texts_to_sequences([new_sentence]) \n",
    "    pad_new = pad_sequences(encoded, maxlen = max_len) \n",
    "    score = float(loaded_model.predict(pad_new)) \n",
    "    if(score > 0.5):\n",
    "      positive_cnt  += 1\n",
    "positive_ratio = round(positive_cnt / len(JinAir), 2) * 100\n",
    "print(f'총 {len(JinAir)}개의 리뷰 중 {positive_cnt}개의 긍정 리뷰입니다. 긍정리뷰 비율은 {positive_ratio} % 입니다.')"
   ]
  },
  {
   "cell_type": "code",
   "execution_count": null,
   "metadata": {
    "colab": {
     "base_uri": "https://localhost:8080/"
    },
    "id": "sn0_16iaO0nU",
    "outputId": "40787107-ec6f-45a7-b1d2-b6ce34aac8b0"
   },
   "outputs": [
    {
     "name": "stdout",
     "output_type": "stream",
     "text": [
      "총 63개의 리뷰 중 31개의 긍정 리뷰입니다. 긍정리뷰 비율은 49.0 % 입니다.\n"
     ]
    }
   ],
   "source": [
    "KLM = pd.read_csv(\"/content/drive/MyDrive/data/항공사리뷰/KLM.csv\")\n",
    "\n",
    "KLM['review'] = KLM['review'].str.replace(\"[^ㄱ-ㅎㅏ-ㅣ가-힣 ]\",\"\") \n",
    "\n",
    "positive_cnt = 0\n",
    "for review in KLM['review']:\n",
    "    new_sentence = okt.morphs(review, stem=True) \n",
    "    new_sentence = [word for word in new_sentence if not word in stopwords] \n",
    "    encoded = tokenizer.texts_to_sequences([new_sentence])\n",
    "    pad_new = pad_sequences(encoded, maxlen = max_len)\n",
    "    score = float(loaded_model.predict(pad_new))\n",
    "    if(score > 0.5):\n",
    "      positive_cnt  += 1\n",
    "positive_ratio = round(positive_cnt / len(KLM), 2) * 100\n",
    "print(f'총 {len(KLM)}개의 리뷰 중 {positive_cnt}개의 긍정 리뷰입니다. 긍정리뷰 비율은 {positive_ratio} % 입니다.')"
   ]
  },
  {
   "cell_type": "code",
   "execution_count": null,
   "metadata": {
    "colab": {
     "base_uri": "https://localhost:8080/"
    },
    "id": "XlNzECcOO1vQ",
    "outputId": "b73ca3bb-0c6a-4e16-e339-58845512dea4"
   },
   "outputs": [
    {
     "name": "stdout",
     "output_type": "stream",
     "text": [
      "총 677개의 리뷰 중 421개의 긍정 리뷰입니다. 긍정리뷰 비율은 62.0 % 입니다.\n"
     ]
    }
   ],
   "source": [
    "KoreanAir = pd.read_csv(\"/content/drive/MyDrive/data/항공사리뷰/KoreanAir.csv\")\n",
    "\n",
    "KoreanAir['review'] = KoreanAir['review'].str.replace(\"[^ㄱ-ㅎㅏ-ㅣ가-힣 ]\",\"\") \n",
    "\n",
    "positive_cnt = 0\n",
    "for review in KoreanAir['review']:\n",
    "    new_sentence = okt.morphs(review, stem=True) \n",
    "    new_sentence = [word for word in new_sentence if not word in stopwords] \n",
    "    encoded = tokenizer.texts_to_sequences([new_sentence]) \n",
    "    pad_new = pad_sequences(encoded, maxlen = max_len) \n",
    "    score = float(loaded_model.predict(pad_new)) \n",
    "    if(score > 0.5):\n",
    "      positive_cnt  += 1\n",
    "positive_ratio = round(positive_cnt / len(KoreanAir), 2) * 100\n",
    "print(f'총 {len(KoreanAir)}개의 리뷰 중 {positive_cnt}개의 긍정 리뷰입니다. 긍정리뷰 비율은 {positive_ratio} % 입니다.')"
   ]
  },
  {
   "cell_type": "code",
   "execution_count": null,
   "metadata": {
    "colab": {
     "base_uri": "https://localhost:8080/"
    },
    "id": "sGFWcGiEO_gU",
    "outputId": "81ee7dcd-6bf4-4f1e-eb9d-b659cf5f67ea"
   },
   "outputs": [
    {
     "name": "stdout",
     "output_type": "stream",
     "text": [
      "총 97개의 리뷰 중 55개의 긍정 리뷰입니다. 긍정리뷰 비율은 56.99999999999999 % 입니다.\n"
     ]
    }
   ],
   "source": [
    "LuftHansa = pd.read_csv(\"/content/drive/MyDrive/data/항공사리뷰/LuftHansa.csv\")\n",
    "\n",
    "LuftHansa['review'] = LuftHansa['review'].str.replace(\"[^ㄱ-ㅎㅏ-ㅣ가-힣 ]\",\"\") \n",
    "\n",
    "positive_cnt = 0\n",
    "for review in LuftHansa['review']:\n",
    "    new_sentence = okt.morphs(review, stem=True) \n",
    "    new_sentence = [word for word in new_sentence if not word in stopwords] \n",
    "    encoded = tokenizer.texts_to_sequences([new_sentence]) \n",
    "    pad_new = pad_sequences(encoded, maxlen = max_len) \n",
    "    score = float(loaded_model.predict(pad_new)) \n",
    "    if(score > 0.5):\n",
    "      positive_cnt  += 1\n",
    "positive_ratio = round(positive_cnt / len(LuftHansa), 2) * 100\n",
    "print(f'총 {len(LuftHansa)}개의 리뷰 중 {positive_cnt}개의 긍정 리뷰입니다. 긍정리뷰 비율은 {positive_ratio} % 입니다.')"
   ]
  },
  {
   "cell_type": "code",
   "execution_count": null,
   "metadata": {
    "colab": {
     "base_uri": "https://localhost:8080/"
    },
    "id": "BCgsdISUO_Th",
    "outputId": "a44fae99-ef80-4639-a4f6-e202dc5dfbbf"
   },
   "outputs": [
    {
     "name": "stdout",
     "output_type": "stream",
     "text": [
      "총 72개의 리뷰 중 45개의 긍정 리뷰입니다. 긍정리뷰 비율은 62.0 % 입니다.\n"
     ]
    }
   ],
   "source": [
    "Qatar = pd.read_csv(\"/content/drive/MyDrive/data/항공사리뷰/Qatar.csv\")\n",
    "\n",
    "Qatar['review'] = Qatar['review'].str.replace(\"[^ㄱ-ㅎㅏ-ㅣ가-힣 ]\",\"\") \n",
    "\n",
    "positive_cnt = 0\n",
    "for review in Qatar['review']:\n",
    "    new_sentence = okt.morphs(review, stem=True) \n",
    "    new_sentence = [word for word in new_sentence if not word in stopwords] \n",
    "    encoded = tokenizer.texts_to_sequences([new_sentence])\n",
    "    pad_new = pad_sequences(encoded, maxlen = max_len) \n",
    "    score = float(loaded_model.predict(pad_new)) \n",
    "    if(score > 0.5):\n",
    "      positive_cnt  += 1\n",
    "positive_ratio = round(positive_cnt / len(Qatar), 2) * 100\n",
    "print(f'총 {len(Qatar)}개의 리뷰 중 {positive_cnt}개의 긍정 리뷰입니다. 긍정리뷰 비율은 {positive_ratio} % 입니다.')"
   ]
  },
  {
   "cell_type": "code",
   "execution_count": null,
   "metadata": {
    "colab": {
     "base_uri": "https://localhost:8080/"
    },
    "id": "Ogs7CDqDPNlL",
    "outputId": "52fc3a66-ed18-4d12-e371-1eda07574b39"
   },
   "outputs": [
    {
     "name": "stdout",
     "output_type": "stream",
     "text": [
      "총 91개의 리뷰 중 46개의 긍정 리뷰입니다. 긍정리뷰 비율은 51.0 % 입니다.\n"
     ]
    }
   ],
   "source": [
    "Tway = pd.read_csv(\"/content/drive/MyDrive/data/항공사리뷰/Tway.csv\")\n",
    "\n",
    "Tway['review'] = Tway['review'].str.replace(\"[^ㄱ-ㅎㅏ-ㅣ가-힣 ]\",\"\") \n",
    "\n",
    "positive_cnt = 0\n",
    "for review in Tway['review']:\n",
    "    new_sentence = okt.morphs(review, stem=True) \n",
    "    new_sentence = [word for word in new_sentence if not word in stopwords] \n",
    "    encoded = tokenizer.texts_to_sequences([new_sentence]) \n",
    "    pad_new = pad_sequences(encoded, maxlen = max_len) \n",
    "    score = float(loaded_model.predict(pad_new)) \n",
    "    if(score > 0.5):\n",
    "      positive_cnt  += 1\n",
    "positive_ratio = round(positive_cnt / len(Tway), 2) * 100\n",
    "print(f'총 {len(Tway)}개의 리뷰 중 {positive_cnt}개의 긍정 리뷰입니다. 긍정리뷰 비율은 {positive_ratio} % 입니다.')"
   ]
  },
  {
   "cell_type": "code",
   "execution_count": null,
   "metadata": {
    "colab": {
     "base_uri": "https://localhost:8080/"
    },
    "id": "qnFHI1WoPN5H",
    "outputId": "f87c8a23-cb6a-4263-c234-fd31c1dca5d2"
   },
   "outputs": [
    {
     "name": "stdout",
     "output_type": "stream",
     "text": [
      "총 62개의 리뷰 중 24개의 긍정 리뷰입니다. 긍정리뷰 비율은 39.0 % 입니다.\n"
     ]
    }
   ],
   "source": [
    "United = pd.read_csv(\"/content/drive/MyDrive/data/항공사리뷰/United.csv\")\n",
    "\n",
    "United['review'] = United['review'].str.replace(\"[^ㄱ-ㅎㅏ-ㅣ가-힣 ]\",\"\") \n",
    "\n",
    "positive_cnt = 0\n",
    "for review in United['review']:\n",
    "    new_sentence = okt.morphs(review, stem=True) \n",
    "    new_sentence = [word for word in new_sentence if not word in stopwords] \n",
    "    encoded = tokenizer.texts_to_sequences([new_sentence]) \n",
    "    pad_new = pad_sequences(encoded, maxlen = max_len) \n",
    "    score = float(loaded_model.predict(pad_new)) \n",
    "    if(score > 0.5):\n",
    "      positive_cnt  += 1\n",
    "positive_ratio = round(positive_cnt / len(United), 2) * 100\n",
    "print(f'총 {len(United)}개의 리뷰 중 {positive_cnt}개의 긍정 리뷰입니다. 긍정리뷰 비율은 {positive_ratio} % 입니다.')"
   ]
  }
 ],
 "metadata": {
  "colab": {
   "collapsed_sections": [
    "L7P5VQRH9k_2",
    "FFNzQjFE8Tyg"
   ],
   "name": "Word2Vec.ipynb의 사본",
   "provenance": []
  },
  "kernelspec": {
   "display_name": "Python 3 (ipykernel)",
   "language": "python",
   "name": "python3"
  },
  "language_info": {
   "codemirror_mode": {
    "name": "ipython",
    "version": 3
   },
   "file_extension": ".py",
   "mimetype": "text/x-python",
   "name": "python",
   "nbconvert_exporter": "python",
   "pygments_lexer": "ipython3",
   "version": "3.8.7"
  },
  "toc": {
   "base_numbering": 1,
   "nav_menu": {},
   "number_sections": true,
   "sideBar": true,
   "skip_h1_title": false,
   "title_cell": "Table of Contents",
   "title_sidebar": "Contents",
   "toc_cell": false,
   "toc_position": {},
   "toc_section_display": true,
   "toc_window_display": true
  }
 },
 "nbformat": 4,
 "nbformat_minor": 1
}
